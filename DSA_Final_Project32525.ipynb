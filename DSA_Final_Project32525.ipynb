{
 "cells": [
  {
   "cell_type": "code",
   "execution_count": 1,
   "id": "4a5c35b6",
   "metadata": {},
   "outputs": [
    {
     "data": {
      "text/plain": [
       "'C:\\\\Users\\\\tirth\\\\.conda\\\\envs\\\\final\\\\lib\\\\site-packages\\\\pyspark'"
      ]
     },
     "execution_count": 1,
     "metadata": {},
     "output_type": "execute_result"
    }
   ],
   "source": [
    "\n",
    "import findspark\n",
    "findspark.init()\n",
    "findspark.find()\n"
   ]
  },
  {
   "cell_type": "code",
   "execution_count": 2,
   "id": "728b8dbd",
   "metadata": {},
   "outputs": [
    {
     "name": "stdout",
     "output_type": "stream",
     "text": [
      "+---------------------------+\n",
      "|Text_Data_In_Rows_Using_CSV|\n",
      "+---------------------------+\n",
      "|[0]                        |\n",
      "|[1]                        |\n",
      "|[2]                        |\n",
      "|[3]                        |\n",
      "+---------------------------+\n",
      "only showing top 4 rows\n",
      "\n"
     ]
    }
   ],
   "source": [
    "from pyspark.sql import SparkSession\n",
    "from pyspark import SparkContext\n",
    "from pyspark.sql.functions import *\n",
    "from pyspark.ml.feature import Imputer\n",
    "from pyspark.sql import Window\n",
    "from pyspark.sql import SparkSession\n",
    "from pyspark.sql.functions import *\n",
    "from pyspark.ml.feature import Imputer\n",
    "from pyspark.sql import Window\n",
    "from pyspark.ml import Pipeline\n",
    "from pyspark.ml.classification import LogisticRegression\n",
    "from pyspark.ml.evaluation import BinaryClassificationEvaluator\n",
    "from pyspark.ml.feature import HashingTF, Tokenizer\n",
    "from pyspark.ml.tuning import CrossValidator, ParamGridBuilder\n",
    "from pyspark.ml.feature import Tokenizer, StopWordsRemover, HashingTF, IDF\n",
    "import os\n",
    "from pyspark.ml.clustering import KMeans\n",
    "from pyspark.ml.feature import CountVectorizer\n",
    "from pyspark.sql import SparkSession\n",
    "from pyspark.ml.feature import RegexTokenizer\n",
    "from pyspark.ml.feature import StopWordsRemover\n",
    "from pyspark.ml.feature import HashingTF, IDF\n",
    "from pyspark.sql.functions import udf\n",
    "import pandas as pd\n",
    "import numpy as np\n",
    "from pyspark.sql.types import IntegerType\n",
    "from pyspark.ml.feature import VectorAssembler\n",
    "from pyspark.ml.evaluation import ClusteringEvaluator\n",
    "from pyspark.ml.feature import Word2Vec\n",
    "\n",
    "sc = SparkContext()\n",
    "spark = SparkSession(sc)\n",
    "spark = SparkSession.builder.getOrCreate()\n",
    "  \n",
    "df = spark.read.csv(\"acq2.csv\")\n",
    "  \n",
    "df.selectExpr(\"split(_c0, ' ')\\\n",
    "as Text_Data_In_Rows_Using_CSV\").show(4,False)"
   ]
  },
  {
   "cell_type": "markdown",
   "id": "1150d897",
   "metadata": {},
   "source": [
    "#WE HAVE PERFORMED VARIOUS PREPROCESSING STEPS LIKE REMOVING THE NULL VALUES, HANDLING THE MISSING VALUES AND OUTLIER DETECTION, REMOVAL AND IMPUTATION AND REMOVING DUPLICATES. THESE ARE NECESSARY BECAUSE WE HAVE TO REMOVE THE NULL VALUES AS A PART OF DATA CLEANING. WE HAVE ALSO USED Z-SCORE AND IQR AS A PART OF OUTLIER DETECTION."
   ]
  },
  {
   "cell_type": "code",
   "execution_count": 3,
   "id": "5e067c66",
   "metadata": {},
   "outputs": [
    {
     "name": "stdout",
     "output_type": "stream",
     "text": [
      "+---+--------------------+\n",
      "|_c0|                 _c1|\n",
      "+---+--------------------+\n",
      "|  0|COMPUTER TERMINAL...|\n",
      "|  1|NATIONAL AMUSEMEN...|\n",
      "|  2|\"U . K . GROWING ...|\n",
      "|  3|GOULD & lt ; GLD ...|\n",
      "|  4|FIRST WISCONSIN &...|\n",
      "|  5|& lt ; MERIDIAN E...|\n",
      "|  6|\"FED ' S HELLER U...|\n",
      "|  7|GOULD & lt ; GLD ...|\n",
      "|  8|FIDELITY & lt ; F...|\n",
      "|  9|BP MANAGING DIREC...|\n",
      "| 10|SECURITY & lt ; S...|\n",
      "| 11|DENNISON MANUFACT...|\n",
      "| 12|PILLSBURY & lt ; ...|\n",
      "| 13|\"BP & lt ; BP > D...|\n",
      "| 14|LOUISIANA - PACIF...|\n",
      "| 15|SUBURBAN BANCORP ...|\n",
      "| 16|FAIR LANES & lt ;...|\n",
      "| 17|CB AND T & lt ; C...|\n",
      "| 18|\"USX & lt ; X > S...|\n",
      "| 19|FIRST FINANCIAL &...|\n",
      "+---+--------------------+\n",
      "only showing top 20 rows\n",
      "\n"
     ]
    }
   ],
   "source": [
    "columns = ['first_column','second_column', 'third_column']\n",
    "df.show()"
   ]
  },
  {
   "cell_type": "code",
   "execution_count": 4,
   "id": "c79fabab",
   "metadata": {},
   "outputs": [
    {
     "name": "stdout",
     "output_type": "stream",
     "text": [
      "+---+---+\n",
      "|_c0|_c1|\n",
      "+---+---+\n",
      "|  0|  0|\n",
      "+---+---+\n",
      "\n",
      "None\n"
     ]
    }
   ],
   "source": [
    "print(df.select([count(when(isnan(c) | col(c).isNull(), c)).alias(c) for c in df.columns]).show())"
   ]
  },
  {
   "cell_type": "code",
   "execution_count": 5,
   "id": "d7a2986d",
   "metadata": {},
   "outputs": [
    {
     "name": "stdout",
     "output_type": "stream",
     "text": [
      "+---+--------------------+\n",
      "|_c0|                 _c1|\n",
      "+---+--------------------+\n",
      "|  0|COMPUTER TERMINAL...|\n",
      "|  1|NATIONAL AMUSEMEN...|\n",
      "|  2|\"U . K . GROWING ...|\n",
      "|  3|GOULD & lt ; GLD ...|\n",
      "|  4|FIRST WISCONSIN &...|\n",
      "|  5|& lt ; MERIDIAN E...|\n",
      "|  6|\"FED ' S HELLER U...|\n",
      "|  7|GOULD & lt ; GLD ...|\n",
      "|  8|FIDELITY & lt ; F...|\n",
      "|  9|BP MANAGING DIREC...|\n",
      "| 10|SECURITY & lt ; S...|\n",
      "| 11|DENNISON MANUFACT...|\n",
      "| 12|PILLSBURY & lt ; ...|\n",
      "| 13|\"BP & lt ; BP > D...|\n",
      "| 14|LOUISIANA - PACIF...|\n",
      "| 15|SUBURBAN BANCORP ...|\n",
      "| 16|FAIR LANES & lt ;...|\n",
      "| 17|CB AND T & lt ; C...|\n",
      "| 18|\"USX & lt ; X > S...|\n",
      "| 19|FIRST FINANCIAL &...|\n",
      "+---+--------------------+\n",
      "only showing top 20 rows\n",
      "\n"
     ]
    }
   ],
   "source": [
    "df = df.dropna()\n",
    "df.show()"
   ]
  },
  {
   "cell_type": "code",
   "execution_count": 6,
   "id": "5216523b",
   "metadata": {},
   "outputs": [
    {
     "name": "stdout",
     "output_type": "stream",
     "text": [
      "root\n",
      " |-- _c0: string (nullable = true)\n",
      " |-- _c1: string (nullable = true)\n",
      "\n"
     ]
    }
   ],
   "source": [
    "df.printSchema()"
   ]
  },
  {
   "cell_type": "code",
   "execution_count": 7,
   "id": "29603d95",
   "metadata": {},
   "outputs": [],
   "source": [
    "column_subset = [col_ for col_ in df.columns if df.select(col_).dtypes[0][1] !=\"string\"]"
   ]
  },
  {
   "cell_type": "code",
   "execution_count": 8,
   "id": "838df78f",
   "metadata": {},
   "outputs": [],
   "source": [
    "for col_ in column_subset:\n",
    "    temp_col = df.groupBy(col_).count()\n",
    "    temp_col = temp_col.dropna(subset=col_)\n",
    "    frequent_category=temp_col.orderBy(\n",
    "                     temp_col['count'].desc()).collect()[0][0]\n",
    "    df = df.fillna(frequent_category, subset=col_)"
   ]
  },
  {
   "cell_type": "code",
   "execution_count": 9,
   "id": "13b7aa26",
   "metadata": {},
   "outputs": [
    {
     "name": "stdout",
     "output_type": "stream",
     "text": [
      "+---+--------------------+\n",
      "|_c0|                 _c1|\n",
      "+---+--------------------+\n",
      "|  0|COMPUTER TERMINAL...|\n",
      "|  1|NATIONAL AMUSEMEN...|\n",
      "|  2|\"U . K . GROWING ...|\n",
      "|  3|GOULD & lt ; GLD ...|\n",
      "|  4|FIRST WISCONSIN &...|\n",
      "|  5|& lt ; MERIDIAN E...|\n",
      "|  6|\"FED ' S HELLER U...|\n",
      "|  7|GOULD & lt ; GLD ...|\n",
      "|  8|FIDELITY & lt ; F...|\n",
      "|  9|BP MANAGING DIREC...|\n",
      "| 10|SECURITY & lt ; S...|\n",
      "| 11|DENNISON MANUFACT...|\n",
      "| 12|PILLSBURY & lt ; ...|\n",
      "| 13|\"BP & lt ; BP > D...|\n",
      "| 14|LOUISIANA - PACIF...|\n",
      "| 15|SUBURBAN BANCORP ...|\n",
      "| 16|FAIR LANES & lt ;...|\n",
      "| 17|CB AND T & lt ; C...|\n",
      "| 18|\"USX & lt ; X > S...|\n",
      "| 19|FIRST FINANCIAL &...|\n",
      "+---+--------------------+\n",
      "only showing top 20 rows\n",
      "\n"
     ]
    }
   ],
   "source": [
    "df.show()"
   ]
  },
  {
   "cell_type": "code",
   "execution_count": 10,
   "id": "db1b7565",
   "metadata": {},
   "outputs": [
    {
     "name": "stdout",
     "output_type": "stream",
     "text": [
      "+---+--------------------+\n",
      "|_c0|                 _c1|\n",
      "+---+--------------------+\n",
      "|  0|COMPUTER TERMINAL...|\n",
      "|  1|NATIONAL AMUSEMEN...|\n",
      "|  2|\"U . K . GROWING ...|\n",
      "|  3|GOULD & lt ; GLD ...|\n",
      "|  4|FIRST WISCONSIN &...|\n",
      "|  5|& lt ; MERIDIAN E...|\n",
      "|  6|\"FED ' S HELLER U...|\n",
      "|  7|GOULD & lt ; GLD ...|\n",
      "|  8|FIDELITY & lt ; F...|\n",
      "|  9|BP MANAGING DIREC...|\n",
      "| 10|SECURITY & lt ; S...|\n",
      "| 11|DENNISON MANUFACT...|\n",
      "| 12|PILLSBURY & lt ; ...|\n",
      "| 13|\"BP & lt ; BP > D...|\n",
      "| 14|LOUISIANA - PACIF...|\n",
      "| 15|SUBURBAN BANCORP ...|\n",
      "| 16|FAIR LANES & lt ;...|\n",
      "| 17|CB AND T & lt ; C...|\n",
      "| 18|\"USX & lt ; X > S...|\n",
      "| 19|FIRST FINANCIAL &...|\n",
      "+---+--------------------+\n",
      "only showing top 20 rows\n",
      "\n"
     ]
    }
   ],
   "source": [
    "column_subset = df.columns\n",
    "for col in column_subset:\n",
    "    if df.select(col).dtypes[0][1]==\"string\":\n",
    "        pass\n",
    "    else:\n",
    "        mean = df.select(mean(col)).collect()[0][0]\n",
    "        stddev = df.select(stddev(col)).collect()[0][0]\n",
    "        upper_limit = mean + (3*stddev)\n",
    "        lower_limit = mean - (3*stddev)\n",
    "        df = df.filter((df[col]<lower_limit) |      (df[col]>upper_limit))\n",
    "df.show()"
   ]
  },
  {
   "cell_type": "code",
   "execution_count": 11,
   "id": "a1d6be65",
   "metadata": {},
   "outputs": [
    {
     "name": "stdout",
     "output_type": "stream",
     "text": [
      "+---+--------------------+\n",
      "|_c0|                 _c1|\n",
      "+---+--------------------+\n",
      "|  0|COMPUTER TERMINAL...|\n",
      "|  1|NATIONAL AMUSEMEN...|\n",
      "|  2|\"U . K . GROWING ...|\n",
      "|  3|GOULD & lt ; GLD ...|\n",
      "|  4|FIRST WISCONSIN &...|\n",
      "|  5|& lt ; MERIDIAN E...|\n",
      "|  6|\"FED ' S HELLER U...|\n",
      "|  7|GOULD & lt ; GLD ...|\n",
      "|  8|FIDELITY & lt ; F...|\n",
      "|  9|BP MANAGING DIREC...|\n",
      "| 10|SECURITY & lt ; S...|\n",
      "| 11|DENNISON MANUFACT...|\n",
      "| 12|PILLSBURY & lt ; ...|\n",
      "| 13|\"BP & lt ; BP > D...|\n",
      "| 14|LOUISIANA - PACIF...|\n",
      "| 15|SUBURBAN BANCORP ...|\n",
      "| 16|FAIR LANES & lt ;...|\n",
      "| 17|CB AND T & lt ; C...|\n",
      "| 18|\"USX & lt ; X > S...|\n",
      "| 19|FIRST FINANCIAL &...|\n",
      "+---+--------------------+\n",
      "only showing top 20 rows\n",
      "\n"
     ]
    }
   ],
   "source": [
    "column_subset = df.columns\n",
    "for col in column_subset:\n",
    "    if df.select(col).dtypes[0][1]==\"string\":\n",
    "        pass\n",
    "    else:\n",
    "        mean = df.select(mean(col)).collect()[0][0]\n",
    "        stddev = df.select(stddev(col)).collect()[0][0]\n",
    "        upper_limit = mean + (3*stddev)\n",
    "        lower_limit = mean - (3*stddev)\n",
    "        df = df.filter((df[col]>lower_limit) & (df[col]<upper_limit))\n",
    "df.show()"
   ]
  },
  {
   "cell_type": "code",
   "execution_count": 12,
   "id": "85f67984",
   "metadata": {},
   "outputs": [
    {
     "name": "stdout",
     "output_type": "stream",
     "text": [
      "+---+--------------------+\n",
      "|_c0|                 _c1|\n",
      "+---+--------------------+\n",
      "|  0|COMPUTER TERMINAL...|\n",
      "|  1|NATIONAL AMUSEMEN...|\n",
      "|  2|\"U . K . GROWING ...|\n",
      "|  3|GOULD & lt ; GLD ...|\n",
      "|  4|FIRST WISCONSIN &...|\n",
      "|  5|& lt ; MERIDIAN E...|\n",
      "|  6|\"FED ' S HELLER U...|\n",
      "|  7|GOULD & lt ; GLD ...|\n",
      "|  8|FIDELITY & lt ; F...|\n",
      "|  9|BP MANAGING DIREC...|\n",
      "| 10|SECURITY & lt ; S...|\n",
      "| 11|DENNISON MANUFACT...|\n",
      "| 12|PILLSBURY & lt ; ...|\n",
      "| 13|\"BP & lt ; BP > D...|\n",
      "| 14|LOUISIANA - PACIF...|\n",
      "| 15|SUBURBAN BANCORP ...|\n",
      "| 16|FAIR LANES & lt ;...|\n",
      "| 17|CB AND T & lt ; C...|\n",
      "| 18|\"USX & lt ; X > S...|\n",
      "| 19|FIRST FINANCIAL &...|\n",
      "+---+--------------------+\n",
      "only showing top 20 rows\n",
      "\n"
     ]
    }
   ],
   "source": [
    "column_subset = df.columns\n",
    "for col in column_subset:\n",
    "    if df.select(col).dtypes[0][1]==\"string\":\n",
    "        pass\n",
    "    else:\n",
    "        mean = df.select(mean(col)).collect()[0][0]\n",
    "        stddev = df.select(stddev(col)).collect()[0][0]\n",
    "        upper_limit = mean + (3*stddev)\n",
    "        lower_limit = mean - (3*stddev)\n",
    "        df = df.withColumn(col,when((df[col]   <lower_limit) | (df[col]>upper_limit),\n",
    "round(mean(col).over(Window.orderBy(lit(1)))).cast('int')).otherwise(df[col]))\n",
    "df.show()"
   ]
  },
  {
   "cell_type": "code",
   "execution_count": 13,
   "id": "6422d4fa",
   "metadata": {},
   "outputs": [
    {
     "name": "stdout",
     "output_type": "stream",
     "text": [
      "+---+--------------------+\n",
      "|_c0|                 _c1|\n",
      "+---+--------------------+\n",
      "|  0|COMPUTER TERMINAL...|\n",
      "|  1|NATIONAL AMUSEMEN...|\n",
      "|  2|\"U . K . GROWING ...|\n",
      "|  3|GOULD & lt ; GLD ...|\n",
      "|  4|FIRST WISCONSIN &...|\n",
      "|  5|& lt ; MERIDIAN E...|\n",
      "|  6|\"FED ' S HELLER U...|\n",
      "|  7|GOULD & lt ; GLD ...|\n",
      "|  8|FIDELITY & lt ; F...|\n",
      "|  9|BP MANAGING DIREC...|\n",
      "| 10|SECURITY & lt ; S...|\n",
      "| 11|DENNISON MANUFACT...|\n",
      "| 12|PILLSBURY & lt ; ...|\n",
      "| 13|\"BP & lt ; BP > D...|\n",
      "| 14|LOUISIANA - PACIF...|\n",
      "| 15|SUBURBAN BANCORP ...|\n",
      "| 16|FAIR LANES & lt ;...|\n",
      "| 17|CB AND T & lt ; C...|\n",
      "| 18|\"USX & lt ; X > S...|\n",
      "| 19|FIRST FINANCIAL &...|\n",
      "+---+--------------------+\n",
      "only showing top 20 rows\n",
      "\n"
     ]
    }
   ],
   "source": [
    "for col_ in df.columns:\n",
    "    if df.select(col_).dtypes[0][1]==\"string\":\n",
    "        pass\n",
    "    else:\n",
    "        q1,q3 = df.approxQuantile(col_,[0.25, 0.75],0) \n",
    "        IQR = q3 - q1\n",
    "        lower_bound = q1 - (1.5*IQR)\n",
    "        upper_bound = q3 + (1.5*IQR)\n",
    "        df = df.filter((df[col]<lower_bound) |  (df[col]>upper_bound))\n",
    "df.show()"
   ]
  },
  {
   "cell_type": "code",
   "execution_count": 14,
   "id": "6d3834e7",
   "metadata": {},
   "outputs": [
    {
     "name": "stdout",
     "output_type": "stream",
     "text": [
      "+---+--------------------+\n",
      "|_c0|                 _c1|\n",
      "+---+--------------------+\n",
      "|  0|COMPUTER TERMINAL...|\n",
      "|  1|NATIONAL AMUSEMEN...|\n",
      "|  2|\"U . K . GROWING ...|\n",
      "|  3|GOULD & lt ; GLD ...|\n",
      "|  4|FIRST WISCONSIN &...|\n",
      "|  5|& lt ; MERIDIAN E...|\n",
      "|  6|\"FED ' S HELLER U...|\n",
      "|  7|GOULD & lt ; GLD ...|\n",
      "|  8|FIDELITY & lt ; F...|\n",
      "|  9|BP MANAGING DIREC...|\n",
      "| 10|SECURITY & lt ; S...|\n",
      "| 11|DENNISON MANUFACT...|\n",
      "| 12|PILLSBURY & lt ; ...|\n",
      "| 13|\"BP & lt ; BP > D...|\n",
      "| 14|LOUISIANA - PACIF...|\n",
      "| 15|SUBURBAN BANCORP ...|\n",
      "| 16|FAIR LANES & lt ;...|\n",
      "| 17|CB AND T & lt ; C...|\n",
      "| 18|\"USX & lt ; X > S...|\n",
      "| 19|FIRST FINANCIAL &...|\n",
      "+---+--------------------+\n",
      "only showing top 20 rows\n",
      "\n"
     ]
    }
   ],
   "source": [
    "for col_ in df.columns:\n",
    "    if df.select(col_).dtypes[0][1]==\"string\":\n",
    "        pass\n",
    "    else:\n",
    "        q1,q3 = df.approxQuantile(col_,[0.25, 0.75],0) \n",
    "        IQR = q3 - q1\n",
    "        lower_bound = q1 - (1.5*IQR)\n",
    "        upper_bound = q3 + (1.5*IQR)\n",
    "        df = df.filter((df[col]>lower_bound) & (df[col]<upper_bound))\n",
    "df.show()"
   ]
  },
  {
   "cell_type": "code",
   "execution_count": 15,
   "id": "b22d906f",
   "metadata": {},
   "outputs": [
    {
     "name": "stdout",
     "output_type": "stream",
     "text": [
      "+---+--------------------+\n",
      "|_c0|                 _c1|\n",
      "+---+--------------------+\n",
      "|  0|COMPUTER TERMINAL...|\n",
      "|  1|NATIONAL AMUSEMEN...|\n",
      "|  2|\"U . K . GROWING ...|\n",
      "|  3|GOULD & lt ; GLD ...|\n",
      "|  4|FIRST WISCONSIN &...|\n",
      "|  5|& lt ; MERIDIAN E...|\n",
      "|  6|\"FED ' S HELLER U...|\n",
      "|  7|GOULD & lt ; GLD ...|\n",
      "|  8|FIDELITY & lt ; F...|\n",
      "|  9|BP MANAGING DIREC...|\n",
      "| 10|SECURITY & lt ; S...|\n",
      "| 11|DENNISON MANUFACT...|\n",
      "| 12|PILLSBURY & lt ; ...|\n",
      "| 13|\"BP & lt ; BP > D...|\n",
      "| 14|LOUISIANA - PACIF...|\n",
      "| 15|SUBURBAN BANCORP ...|\n",
      "| 16|FAIR LANES & lt ;...|\n",
      "| 17|CB AND T & lt ; C...|\n",
      "| 18|\"USX & lt ; X > S...|\n",
      "| 19|FIRST FINANCIAL &...|\n",
      "+---+--------------------+\n",
      "only showing top 20 rows\n",
      "\n"
     ]
    }
   ],
   "source": [
    "for col_ in df.columns:\n",
    "    if df.select(col_).dtypes[0][1]==\"string\":\n",
    "        pass\n",
    "    else:\n",
    "        q1,q3 = df.approxQuantile(col_,[0.25, 0.75],0) \n",
    "        IQR = q3 - q1\n",
    "        lower_bound = q1 - (1.5*IQR)\n",
    "        upper_bound = q3 + (1.5*IQR)\n",
    "        df = df.withColumn(col_,when((df[col_]<lower_bound)  (df[col_]>upper_bound),round(mean(col_).over(Window.orderBy(lit(1))))).otherwise(df[col_]))\n",
    "df.show()"
   ]
  },
  {
   "cell_type": "code",
   "execution_count": 16,
   "id": "d613f777",
   "metadata": {},
   "outputs": [
    {
     "name": "stdout",
     "output_type": "stream",
     "text": [
      "Distinct count: 331\n",
      "+---+-------------------------------------------------------------------------------------------------------------------------------------------------------------------------------------------------------------------------------------------------------------------------------------------------------------------------------------------------------------------------------------------------------------------------------------------------------------------------------------------------------------------------------------------------------------------------------------------------------------------------------------------------------------------------------------------------------------------------------------------------------------------------------------------------------------------------------------------------------------------------------------------------------------------------------------------------------------------------------------------------------------------------------------------------------------------------------------------------------------------------------------------------------------------------------------------------------------------------------------------------------------------------------------------------------------------------------------------------------------------------------------------------------------------------------------------------------+\n",
      "|_c0|_c1                                                                                                                                                                                                                                                                                                                                                                                                                                                                                                                                                                                                                                                                                                                                                                                                                                                                                                                                                                                                                                                                                                                                                                                                                                                                                                                                                                                                                                                    |\n",
      "+---+-------------------------------------------------------------------------------------------------------------------------------------------------------------------------------------------------------------------------------------------------------------------------------------------------------------------------------------------------------------------------------------------------------------------------------------------------------------------------------------------------------------------------------------------------------------------------------------------------------------------------------------------------------------------------------------------------------------------------------------------------------------------------------------------------------------------------------------------------------------------------------------------------------------------------------------------------------------------------------------------------------------------------------------------------------------------------------------------------------------------------------------------------------------------------------------------------------------------------------------------------------------------------------------------------------------------------------------------------------------------------------------------------------------------------------------------------------+\n",
      "|244|SWEDEN ' S BOLIDEN AB TAKES OVER MINING GEAR UNITS OF ALLIS - CHALMERS CORP FOR 600 MLN CROWNS SWEDEN ' S BOLIDEN AB TAKES OVER MINING GEAR UNITS OF ALLIS - CHALMERS CORP FOR 600 MLN CROWNS                                                                                                                                                                                                                                                                                                                                                                                                                                                                                                                                                                                                                                                                                                                                                                                                                                                                                                                                                                                                                                                                                                                                                                                                                                                          |\n",
      "|112|WILLCOX AND GIBBS & lt ; WG > TO MAKE ACQUISITION Willcox and Gibbs Inc said it has agreed to acquire Atlantia electric parts distributor B and W Electric Supply Co for an undisclosed amount of cash . B and W had sales of about eight mln dlrs in its most recent year . Willcox said it plans further expansion in the Atlanta area .                                                                                                                                                                                                                                                                                                                                                                                                                                                                                                                                                                                                                                                                                                                                                                                                                                                                                                                                                                                                                                                                                                             |\n",
      "|297|CANADIAN TIRE MAJOR HOLDERS NOT EXTENDING PACT CTC Dealer Holdings Ltd said & lt ; Canadian Tire Corp Ltd > controlling shareholders Alfred , David and Martha Billes did not extend an agreement expiring yesterday to tender their shares only to CTC ' s previously reported offer for 49 pct of Canadian Tire common shares . CTC , which already holds 17 . 4 pct of Canadian Tire common , said it would therefore not take up any shares tendered under its offer unless they totaled at least 1 . 1 mln or another 32 . 7 pct of Canadian Tire common . The Billes control 60 pct of Canadian Tire common . It added that it extended its offer to May 11 at a fixed price of 165 . 36 dlrs a share . CTC , a group of Canadian Tire dealers , said it expected to know by May 11 if it would obtain approval to appeal a previously reported Ontario court ruling upholding a regulatory decision to block CTC ' s offer . The dealers ' bid was previously blocked by the Ontario Securities Commission because the offer excluded holders of Canadian Tire class A non - voting shares , which make up about 96 pct of company equity .                                                                                                                                                                                                                                                                                                     |\n",
      "|105|BUSINESSMAN HAS 5 . 7 PCT OF ARDEN GROUP & lt ; ARDNA > Saul Brandman , a California business executive , told the Securities and Exchange Commission he has acquired 118 , 714 shares of Arden Group Inc , or 5 . 7 pct of the total outstanding common stock . Brandman , chairman of Domino of California Inc , a Los Angeles garment maker , said he bought the stake for 3 . 1 mln dlrs for investment purposes . He said he may buy more Arden Group shares , or he may sell some or all of his current stake . He also said he has no plans to seek control of the company .                                                                                                                                                                                                                                                                                                                                                                                                                                                                                                                                                                                                                                                                                                                                                                                                                                                                    |\n",
      "|36 |ASSOCIATED NEWSPAPERS HAS 10 PCT OF NORTHERN STAR & lt ; Northern Star Holdings Ltd > said Britain ' s & lt ; Associated Newspapers Holdings Plc > will hold 9 . 99 pct of its enlarged issued capital after applying to acquire 15 . 9 mln shares in its recently announced placement . Associated was one of the major investors participating in the previously reported placement of 128 . 9 mln shares at 3 . 75 dlrs each , Northern Star said in a statement . The northern New South Wales regional group is emerging as a national media force in the wake of the industry restructuring sparked by the News Corp Ltd & lt ; NCPA . S > takeover of the Herald and Weekly Times Ltd & lt ; HWTA . S > group . Associated now holds 3 . 3 pct of Northern Star ' s current issued capital , a company official said . As previously reported , Northern Star is raising 623 mln dlrs through placements and a subsequent one - for - four rights issue at 2 . 95 dlrs a share . Of the placements , 56 . 9 mln shares will go to a number of investors and 72 mln to investment group & lt ; Westfield Capital Corp Ltd >, which arranged Northern Star ' s purchase of News Corp ' s television assets , three newspapers and three radio stations for 842 mln dlrs . Westfield will increase its stake in Northern Star to about 45 pct from 20 as a result .                                                                                |\n",
      "|53 |HANSON TRUST TO SELL U . S . CHEMICALS UNIT Hanson Trust Plc & lt ; HNSN . L > said its U . S . Subsidiary , Hanson Industries Inc , is to sell PCR Inc , a speciality chemicals unit , for 6 . 25 mln dlrs cash to & lt ; Chemical Partners Inc >. PCR had sales of 13 . 2 mln dlrs in fiscal 1986 and an operating loss of 381 , 000 dlrs .                                                                                                                                                                                                                                                                                                                                                                                                                                                                                                                                                                                                                                                                                                                                                                                                                                                                                                                                                                                                                                                                                                          |\n",
      "|318|INSPEECH & lt ; INSP > BUYS NORMA BORK , BORK MEDICAL Inspeech Inc said it acquired Norma Bork Associates Inc and Bork Medical Services Inc for undisclosed terms . These firms , with combined revenues of about one mln dlrs , are providers of speech pathology , physical therapy and occupational therapy services .                                                                                                                                                                                                                                                                                                                                                                                                                                                                                                                                                                                                                                                                                                                                                                                                                                                                                                                                                                                                                                                                                                                              |\n",
      "|320|& lt ; CRIME CONTROL > ASSETS TO BE SOLD TO HAWLEY Crime Control Inc said it reached a definitive agreement under which a subsidiary of Hawley Group Ltd will buy assets and assume certain liabilities of Crime Control for 51 . 3 mln dlrs . Of this amount , it said about 47 mln dlrs would be available for distribution to the company ' s banks , debenture holders and shareholders . The balance would be used to pay various state taxes and other expenses relating to the transaction , and to establish reserves to provide for certain unassumed obligations of the company . Crime Control said it would use proceeds to pay its bank lenders approximately 28 . 6 mln dlrs , representing about 87 pct of the principal amount of all its indebtedness to bank lenders . It also said it would propose to acquire all of its 20 mln dlrs worth of outstanding 10 pct convertible subordinated debentures for an aggregate of approximately 15 . 4 mln dlrs and propose liquidation of the company with shareholders receiving an estimated 54 cts a share . As reported earlier , Crime Control is in default on approximately 33 mln dlrs of bank debt and in default under the indenture governing its convertible subordinated debentures . On January 19 , 1987 , Crime Control , which installs , services and monitors electronic surveillance systems , said it retained Rothschild Inc to arrange for the sale of the company .|\n",
      "|7  |GOULD & lt ; GLD > SELLS FRENCH BATTERY UNIT Gould Inc said it sold its French Battery unit , Cie Francaise d ' Electro Chimie , to a group of investors including the unit ' s employees and & lt ; GNB Inc > of Minnesota . Terms of the sale were not disclosed . The unit had 1986 sales of 65 mln dlrs .                                                                                                                                                                                                                                                                                                                                                                                                                                                                                                                                                                                                                                                                                                                                                                                                                                                                                                                                                                                                                                                                                                                                          |\n",
      "|77 |CALMAR & lt ; CLMI > SEEKS TO BE ACQUIRED BY & lt ; KEBO AB > Calmar Inc said KEBOO Ab of Sweden , which now owns about 64 pct of Calmark , has approved the acquisition of remaining Calmar shares at 25 . 375 dlrs in cash at the request of the Calmar board . Calmar said a special meeting of its board will be held March Nine to form a special committee of directors not affiliated with KEBO to evaluate the transaction . KEBO is in turn 60 pct owned by & lt ; Investment AB Beijar > of Sweden .                                                                                                                                                                                                                                                                                                                                                                                                                                                                                                                                                                                                                                                                                                                                                                                                                                                                                                                                         |\n",
      "|187|TELECAST & lt ; TCST > COMPLETES ACQUISITION FINANCING Telecast Inc said it closed on the financing portion of its previously - announced acquisition of approximately 14 , 600 hotel rooms from & lt ; Dynavision Inc >. The three mln dlr financing package was provided by Sanwa Business Credit Corp , a subsidiary of & lt ; Sanwa Bank Ltd > of Japan , the company said .                                                                                                                                                                                                                                                                                                                                                                                                                                                                                                                                                                                                                                                                                                                                                                                                                                                                                                                                                                                                                                                                       |\n",
      "|209|WILSON BROTHERS COMPLETES SALE Wilson Brothers said it completed the sale of most of the assets of its Enro Shirt Co Inc , Enro - At - Ease Inc and Foxcroft Shirt Ltd subsidiaries to Enro Acquisition Corp for about 24 . 2 mln dlrs , half in cash and half in subordinated promissory notes . Enro Acquisition is a newly formed corporation and owns Ramar Intercapital Corp and Wilson ' s chief operating officer , V . Jerome Kaplan , and other managers . Enro Acquisition also assumed most of the units ' liabilities including a 6 . 2 mln dlrs term loan . Completion of the sale and recent sales of substantially all the assets of the company ' s 50 pct owned affiliate GMW Industries INc , are expected to result in a net gain of about nine mln dlrs in the first quarter of 1987 . For the year ago first quarter , Wilson reported net income of 28 , 000 dlrs , including a 103 , 000 dlrs credit , on sales of 15 . 8 mln dlrs .                                                                                                                                                                                                                                                                                                                                                                                                                                                                                            |\n",
      "|8  |FIDELITY & lt ; FNF > UNIT ACQUIRES CALIFORNIA CONCERN Fidelity National Financial Inc said its Fidelity National Title Insurance Co subsidiary acquired the operations of Safeco Title Insurance Co in the northern California counties of Alameda , Contra Costa and San Mateo . Terms of the acquisition were not disclosed .                                                                                                                                                                                                                                                                                                                                                                                                                                                                                                                                                                                                                                                                                                                                                                                                                                                                                                                                                                                                                                                                                                                       |\n",
      "|328|FRENCH FIRM HAS FIVE PCT OF CALIF . WATER & lt ; CWTR > Compagnie Generale Des Eaux & lt ; EAUG . PA >, a French water , waste treatment and disposal , heating , ventilation and air conditioning concern said it has a 5 . 0 pct stake in California Water Service Co . In a filing with the Securities and Exchange Commission , Compagnie Generale said it bought its 139 , 200 California Water shares for a total of 7 . 0 mln dlrs for investment purposes . While it said it might acquire more shares in the company , it said it has no plans to seek control of it .                                                                                                                                                                                                                                                                                                                                                                                                                                                                                                                                                                                                                                                                                                                                                                                                                                                                        |\n",
      "|277|OHIO MATTRESS & lt ; OMT > MAY HAVE LOWER 1ST QTR NET Ohio Mattress Co said its first quarter , ending February 28 , profits may be below the 2 . 4 mln dlrs , or 15 cts a share , earned in the first quarter of fiscal 1986 . The company said any decline would be due to expenses related to the acquisitions in the middle of the current quarter of seven licensees of Sealy Inc , as well as 82 pct of the outstanding capital stock of Sealy . Because of these acquisitions , it said , first quarter sales will be substantially higher than last year ' s 67 . 1 mln dlrs . Noting that it typically reports first quarter results in late march , said the report is likely to be issued in early April this year . It said the delay is due to administrative considerations , including conducting appraisals , in connection with the acquisitions .                                                                                                                                                                                                                                                                                                                                                                                                                                                                                                                                                                                    |\n",
      "|257|CPC INTERNATIONAL TO SELL STAKES IN ASIAN UNITS FOR 340 MLN DLRS TO AJINOMOTO CPC INTERNATIONAL TO SELL STAKES IN ASIAN UNITS FOR 340 MLN DLRS TO AJINOMOTO                                                                                                                                                                                                                                                                                                                                                                                                                                                                                                                                                                                                                                                                                                                                                                                                                                                                                                                                                                                                                                                                                                                                                                                                                                                                                            |\n",
      "|273|FIRST NATIONAL BANK CORP TO BUY BRANCH First National Bank Corp , the newly formed parent of First National Bank in Mount Clemens , Mich ., and Bankers Fund Life Insurance Co , said it reached an agreement to buy a branch in Clinton Township from a nonrelated financial institution . It said the acquisition brings to 10 the number of bank branches in Macomb County . Terms were not disclosed . Separately , the newly formed holding company also said it named Arie Guldemond as chairman and Harold Allmacher as president and chief executive officer .                                                                                                                                                                                                                                                                                                                                                                                                                                                                                                                                                                                                                                                                                                                                                                                                                                                                                 |\n",
      "|275|CHASE & lt ; CMB > BUYS BORG - WARNER & lt ; BOR > UNIT Chase Manhattan Corp said Chase Trans - Info , a subsidiary of its Chase Manhattan Bank N . A . unit , has bought Borg - Warner Corp ' s Traffic Services business , including an Illinois processing center , for an undisclosed sum . Borg Warner Traffic Services provides freight bill pre - audit , payment and information services to industry through Borg - Warner Acceptance Corp . Chase Trans - Info , which offers similar services , is now the largest provider of information services for the transportation industry .                                                                                                                                                                                                                                                                                                                                                                                                                                                                                                                                                                                                                                                                                                                                                                                                                                                       |\n",
      "|50 |HUDSON ' S BAY TO SELL WHOLESALE UNIT & lt ; Hudson ' s Bay Co > said it signed a letter of intent to sell its Hudson ' s Bay Wholesale unit to a private investment group . Terms were not disclosed . The company said Normal Paul , a member of the private investment group , will head Hudson ' s Bay Wholesale management . The unit ' s existing management group , headed by Ron McArthur , will also participate in ownership , the company said without elaborating . The wholesale unit is a major distributor of tobacco , confectionary and other products through 34 wholesale and 28 vending branches in Canada . 1986 sales were 798 mln dlrs . Hudson ' s Bay said the sale of its wholesaling unit is part of a program to concentrate financial and management resources on its core business of department stores and real estate .                                                                                                                                                                                                                                                                                                                                                                                                                                                                                                                                                                                                |\n",
      "|125|\"BASS GROUP SAYS IT HAS HAD TALKS ON TAFT & lt ; TFB > A group led by members of the wealthy Bass family of Fort Worth , Texas , which holds a 24 . 9 pct stake in Taft Broadcasting Co , said it has had talks about taking part in a move to take control of the company . In a filing with the Securities and Exchange Commission , the group said it has had discussions with other Taft stockholders and some company managers and directors \"\" concerning participation in a group to acquire control \"\" of the company . The Bass group                                                                                                                                                                                                                                                                                                                                                                                                                                                                                                                                                                                                                                                                                                                                                                                                                                                                                                         |\n",
      "+---+-------------------------------------------------------------------------------------------------------------------------------------------------------------------------------------------------------------------------------------------------------------------------------------------------------------------------------------------------------------------------------------------------------------------------------------------------------------------------------------------------------------------------------------------------------------------------------------------------------------------------------------------------------------------------------------------------------------------------------------------------------------------------------------------------------------------------------------------------------------------------------------------------------------------------------------------------------------------------------------------------------------------------------------------------------------------------------------------------------------------------------------------------------------------------------------------------------------------------------------------------------------------------------------------------------------------------------------------------------------------------------------------------------------------------------------------------------+\n",
      "only showing top 20 rows\n",
      "\n"
     ]
    }
   ],
   "source": [
    "df = df.dropDuplicates()\n",
    "print(\"Distinct count: \"+str(df.count()))\n",
    "df.show(truncate=False)"
   ]
  },
  {
   "cell_type": "code",
   "execution_count": 17,
   "id": "cf31af0c",
   "metadata": {
    "scrolled": true
   },
   "outputs": [
    {
     "name": "stdout",
     "output_type": "stream",
     "text": [
      "Head of the dataframe : \n",
      "Row(_c0='244', _c1=\"SWEDEN ' S BOLIDEN AB TAKES OVER MINING GEAR UNITS OF ALLIS - CHALMERS CORP FOR 600 MLN CROWNS SWEDEN ' S BOLIDEN AB TAKES OVER MINING GEAR UNITS OF ALLIS - CHALMERS CORP FOR 600 MLN CROWNS\")\n",
      "['_c0', '_c1']\n"
     ]
    }
   ],
   "source": [
    "print('Head of the dataframe : ')\n",
    "print(df.head())\n",
    "print(df.columns)"
   ]
  },
  {
   "cell_type": "code",
   "execution_count": 18,
   "id": "b3ff78c8",
   "metadata": {},
   "outputs": [],
   "source": [
    "# Clean text\n",
    "df_clean = df.select('_c0', (lower(regexp_replace('_c1', \"[^a-zA-Z\\\\s]\", \"\")).alias('_c1')))"
   ]
  },
  {
   "cell_type": "code",
   "execution_count": 19,
   "id": "1b75f32a",
   "metadata": {},
   "outputs": [],
   "source": [
    "# Tokenize text\n",
    "tokenizer = Tokenizer(inputCol='_c1', outputCol='words_token')\n",
    "df_words_token = tokenizer.transform(df_clean).select('_c1', 'words_token')\n"
   ]
  },
  {
   "cell_type": "code",
   "execution_count": 20,
   "id": "a14c4324",
   "metadata": {},
   "outputs": [],
   "source": [
    "# Remove stop words\n",
    "remover = StopWordsRemover(inputCol='words_token', outputCol='words_clean')\n",
    "df_words_no_stopw = remover.transform(df_words_token).select('_c1', 'words_clean')\n",
    "\n"
   ]
  },
  {
   "cell_type": "code",
   "execution_count": 21,
   "id": "29c074ec",
   "metadata": {},
   "outputs": [],
   "source": [
    "# Stem text\n",
    "from nltk.stem.snowball import SnowballStemmer\n",
    "stemmer = SnowballStemmer(language='english')\n",
    "stemmer_udf = udf(lambda tokens: [stemmer.stem(token) for token in tokens],)\n",
    "df_stemmed = df_words_no_stopw.withColumn(\"words_stemmed\", stemmer_udf(\"words_clean\")).select('_c1', 'words_stemmed')"
   ]
  },
  {
   "cell_type": "code",
   "execution_count": 22,
   "id": "7327539e",
   "metadata": {
    "scrolled": true
   },
   "outputs": [
    {
     "name": "stdout",
     "output_type": "stream",
     "text": [
      "+--------------------+--------------------+\n",
      "|                 _c1|       words_stemmed|\n",
      "+--------------------+--------------------+\n",
      "|sweden  s boliden...|[sweden, , bolide...|\n",
      "|willcox and gibbs...|[willcox, gibb, ,...|\n",
      "|canadian tire maj...|[canadian, tire, ...|\n",
      "|businessman has  ...|[businessman, , ,...|\n",
      "|associated newspa...|[associ, newspap,...|\n",
      "|hanson trust to s...|[hanson, trust, s...|\n",
      "|inspeech  lt  ins...|[inspeech, , lt, ...|\n",
      "| lt  crime contro...|[, lt, , crime, c...|\n",
      "|gould  lt  gld  s...|[gould, , lt, , g...|\n",
      "|calmar  lt  clmi ...|[calmar, , lt, , ...|\n",
      "|telecast  lt  tcs...|[telecast, , lt, ...|\n",
      "|wilson brothers c...|[wilson, brother,...|\n",
      "|fidelity  lt  fnf...|[fidel, , lt, , f...|\n",
      "|french firm has f...|[french, firm, fi...|\n",
      "|ohio mattress  lt...|[ohio, mattress, ...|\n",
      "|cpc international...|[cpc, intern, sel...|\n",
      "|first national ba...|[first, nation, b...|\n",
      "|chase  lt  cmb  b...|[chase, , lt, , c...|\n",
      "|hudson  s bay to ...|[hudson, , bay, s...|\n",
      "|bass group says i...|[bass, group, say...|\n",
      "+--------------------+--------------------+\n",
      "only showing top 20 rows\n",
      "\n"
     ]
    }
   ],
   "source": [
    "df_stemmed.show()"
   ]
  },
  {
   "cell_type": "code",
   "execution_count": 23,
   "id": "7493cc1e",
   "metadata": {},
   "outputs": [
    {
     "name": "stdout",
     "output_type": "stream",
     "text": [
      "root\n",
      " |-- _c1: string (nullable = true)\n",
      " |-- words_stemmed: array (nullable = false)\n",
      " |    |-- element: string (containsNull = true)\n",
      "\n"
     ]
    }
   ],
   "source": [
    "from pyspark.sql.functions import array\n",
    "df_new = df_stemmed.withColumn(\"words_stemmed\", array(df_stemmed[\"words_stemmed\"]))\n",
    "df_new.printSchema()"
   ]
  },
  {
   "cell_type": "code",
   "execution_count": 24,
   "id": "e348b8df",
   "metadata": {
    "scrolled": false
   },
   "outputs": [
    {
     "name": "stdout",
     "output_type": "stream",
     "text": [
      "+--------------------+--------------------+---------------+--------------------+\n",
      "|                 _c1|       words_stemmed|    rawFeatures|            features|\n",
      "+--------------------+--------------------+---------------+--------------------+\n",
      "|sweden  s boliden...|[[sweden, , bolid...|(20,[13],[1.0])|(20,[13],[2.86069...|\n",
      "|willcox and gibbs...|[[willcox, gibb, ...| (20,[3],[1.0])|(20,[3],[3.032546...|\n",
      "|canadian tire maj...|[[canadian, tire,...|(20,[16],[1.0])|(20,[16],[2.54703...|\n",
      "|businessman has  ...|[[businessman, , ...| (20,[5],[1.0])|(20,[5],[3.240185...|\n",
      "|associated newspa...|[[associ, newspap...| (20,[9],[1.0])|(20,[9],[3.032546...|\n",
      "|hanson trust to s...|[[hanson, trust, ...|(20,[13],[1.0])|(20,[13],[2.86069...|\n",
      "|inspeech  lt  ins...|[[inspeech, , lt,...|(20,[19],[1.0])|(20,[19],[3.03254...|\n",
      "| lt  crime contro...|[[, lt, , crime, ...|(20,[11],[1.0])|(20,[11],[2.86069...|\n",
      "|gould  lt  gld  s...|[[gould, , lt, , ...|(20,[15],[1.0])|(20,[15],[3.03254...|\n",
      "|calmar  lt  clmi ...|[[calmar, , lt, ,...| (20,[9],[1.0])|(20,[9],[3.032546...|\n",
      "|telecast  lt  tcs...|[[telecast, , lt,...| (20,[9],[1.0])|(20,[9],[3.032546...|\n",
      "|wilson brothers c...|[[wilson, brother...| (20,[9],[1.0])|(20,[9],[3.032546...|\n",
      "|fidelity  lt  fnf...|[[fidel, , lt, , ...|(20,[13],[1.0])|(20,[13],[2.86069...|\n",
      "|french firm has f...|[[french, firm, f...|(20,[11],[1.0])|(20,[11],[2.86069...|\n",
      "|ohio mattress  lt...|[[ohio, mattress,...|(20,[12],[1.0])|(20,[12],[2.80940...|\n",
      "|cpc international...|[[cpc, intern, se...|(20,[10],[1.0])|(20,[10],[2.86069...|\n",
      "|first national ba...|[[first, nation, ...| (20,[0],[1.0])|(20,[0],[3.097084...|\n",
      "|chase  lt  cmb  b...|[[chase, , lt, , ...|(20,[10],[1.0])|(20,[10],[2.86069...|\n",
      "|hudson  s bay to ...|[[hudson, , bay, ...|(20,[15],[1.0])|(20,[15],[3.03254...|\n",
      "|bass group says i...|[[bass, group, sa...| (20,[5],[1.0])|(20,[5],[3.240185...|\n",
      "+--------------------+--------------------+---------------+--------------------+\n",
      "only showing top 20 rows\n",
      "\n"
     ]
    }
   ],
   "source": [
    "# Vectorizing the data\n",
    "hashingTF = HashingTF(inputCol='words_stemmed', outputCol='rawFeatures', numFeatures=20)\n",
    "featurizedData = hashingTF.transform(df_new)\n",
    "idf = IDF(inputCol='rawFeatures', outputCol='features')\n",
    "idfModel = idf.fit(featurizedData)\n",
    "rescaledData = idfModel.transform(featurizedData)\n",
    "rescaledData.show()\n"
   ]
  },
  {
   "cell_type": "code",
   "execution_count": 25,
   "id": "7fa25b68",
   "metadata": {},
   "outputs": [],
   "source": [
    "train, test = rescaledData.randomSplit([0.7, 0.3], seed=26)\n",
    "\n",
    "\n",
    "\n"
   ]
  },
  {
   "cell_type": "code",
   "execution_count": 26,
   "id": "6a325350",
   "metadata": {},
   "outputs": [],
   "source": [
    "#importing the KMeans model\n",
    "from pyspark.ml.clustering import KMeans"
   ]
  },
  {
   "cell_type": "code",
   "execution_count": 32,
   "id": "5fa4491d",
   "metadata": {},
   "outputs": [],
   "source": [
    "#defining the k-means model\n",
    "kmeans = KMeans().setK(5).setSeed(1).setFeaturesCol(\"features\").setMaxIter(20).setDistanceMeasure('euclidean')\n"
   ]
  },
  {
   "cell_type": "code",
   "execution_count": 33,
   "id": "89b735b8",
   "metadata": {},
   "outputs": [],
   "source": [
    "#fitting the model on the training data\n",
    "kmeans_model = kmeans.fit(train)\n",
    " \n",
    "\n",
    "\n"
   ]
  },
  {
   "cell_type": "code",
   "execution_count": 34,
   "id": "39fc3c2a",
   "metadata": {},
   "outputs": [
    {
     "name": "stdout",
     "output_type": "stream",
     "text": [
      "+--------------------+--------------------+---------------+--------------------+----------+\n",
      "|                 _c1|       words_stemmed|    rawFeatures|            features|prediction|\n",
      "+--------------------+--------------------+---------------+--------------------+----------+\n",
      "| lt  crime contro...|[[, lt, , crime, ...|(20,[11],[1.0])|(20,[11],[2.86069...|         1|\n",
      "|ajinomoto to buy ...|[[ajinomoto, buy,...| (20,[7],[1.0])|(20,[7],[2.860695...|         1|\n",
      "|allied supermarke...|[[alli, supermark...| (20,[0],[1.0])|(20,[0],[3.097084...|         1|\n",
      "|ball  lt  bll  en...|[[ball, , lt, , b...| (20,[1],[1.0])|(20,[1],[2.860695...|         1|\n",
      "|bass group says i...|[[bass, group, sa...|(20,[16],[1.0])|(20,[16],[2.54703...|         1|\n",
      "+--------------------+--------------------+---------------+--------------------+----------+\n",
      "only showing top 5 rows\n",
      "\n"
     ]
    }
   ],
   "source": [
    "#applying the k-means to the test data\n",
    "test_predicted = kmeans_model.transform(test)\n",
    "test_predicted.show(5)\n"
   ]
  },
  {
   "cell_type": "code",
   "execution_count": 35,
   "id": "8573db36",
   "metadata": {},
   "outputs": [
    {
     "name": "stdout",
     "output_type": "stream",
     "text": [
      "Silhouette with squared euclidean distance = 0.13388791526140875\n"
     ]
    }
   ],
   "source": [
    "#evaluating the performance of the model\n",
    "from pyspark.ml.evaluation import ClusteringEvaluator\n",
    "\n",
    "#instantiating the evaluator\n",
    "evaluator = ClusteringEvaluator()\n",
    "\n",
    "#evaluating the model\n",
    "silhouette = evaluator.evaluate(test_predicted)\n",
    "print(\"Silhouette with squared euclidean distance = \" + str(silhouette))\n",
    "\n",
    "\n",
    "\n",
    "\n",
    "\n"
   ]
  },
  {
   "cell_type": "code",
   "execution_count": 36,
   "id": "6389ae3e",
   "metadata": {},
   "outputs": [
    {
     "name": "stdout",
     "output_type": "stream",
     "text": [
      "Silhouette Score: 0.18462691440116874\n",
      "Silhouette Score: 0.09295643407459121\n",
      "Silhouette Score: 0.17932217300078704\n",
      "Silhouette Score: 0.22767448460266645\n",
      "Silhouette Score: 0.247263234442495\n",
      "Silhouette Score: 0.30802491587749825\n",
      "Silhouette Score: 0.38765799785421956\n",
      "Silhouette Score: 0.40703069296009237\n"
     ]
    }
   ],
   "source": [
    "from pyspark.ml.clustering import KMeans\n",
    "from pyspark.ml.evaluation import ClusteringEvaluator\n",
    "silhouette_score=[]\n",
    "evaluator = ClusteringEvaluator(predictionCol='prediction', featuresCol='features', \\\n",
    "                                metricName='silhouette', distanceMeasure='squaredEuclidean')\n",
    "for i in range(2,10):\n",
    "    \n",
    "    KMeans_algo=KMeans(featuresCol='features', k=i)\n",
    "    \n",
    "    KMeans_fit=KMeans_algo.fit(rescaledData)\n",
    "    \n",
    "    output=KMeans_fit.transform(rescaledData)\n",
    "    \n",
    "    \n",
    "    \n",
    "    score=evaluator.evaluate(output)\n",
    "    \n",
    "    silhouette_score.append(score)\n",
    "    \n",
    "    print(\"Silhouette Score:\",score)"
   ]
  },
  {
   "cell_type": "code",
   "execution_count": 37,
   "id": "0ec609ed",
   "metadata": {},
   "outputs": [
    {
     "data": {
      "text/plain": [
       "Text(0, 0.5, 'cost')"
      ]
     },
     "execution_count": 37,
     "metadata": {},
     "output_type": "execute_result"
    },
    {
     "data": {
      "image/png": "[encoded data removed]",
      "text/plain": [
       "<Figure size 800x600 with 1 Axes>"
      ]
     },
     "metadata": {},
     "output_type": "display_data"
    }
   ],
   "source": [
    "#Visualizing the silhouette scores in a plot\n",
    "import matplotlib.pyplot as plt\n",
    "fig, ax = plt.subplots(1,1, figsize =(8,6))\n",
    "ax.plot(range(2,10),silhouette_score)\n",
    "ax.set_xlabel('k')\n",
    "ax.set_ylabel('cost')"
   ]
  },
  {
   "cell_type": "code",
   "execution_count": 38,
   "id": "9d212b80",
   "metadata": {},
   "outputs": [],
   "source": [
    "#creating a dictionary of the clusters and their top words\n",
    "cluster_words = {}\n",
    "\n",
    "#looping through the clusters\n",
    "for i in range(5):\n",
    "    \n",
    "    #filtering the data for the cluster\n",
    "    cluster_data = test_predicted.filter(test_predicted[\"prediction\"] == i)\n",
    "    \n",
    "    #creating a list of the words in the cluster\n",
    "    words = []\n",
    "    for row in cluster_data.select(\"words_stemmed\").collect():\n",
    "        words.extend(row[0])\n",
    "    \n",
    "    #creating a dictionary of the words and their counts\n",
    "    word_count = {}\n",
    "    for word in words:\n",
    "        if word not in word_count:\n",
    "            word_count[word] = 1\n",
    "        else:\n",
    "            word_count[word] += 1\n",
    "    \n",
    "    #sorting the words based on their counts\n",
    "    sorted_words = sorted(word_count.items(), key=lambda x: x[1], reverse=True)\n",
    "    \n",
    "    #storing the top 5 words in the cluster\n",
    "    top_words = []\n",
    "    for word in sorted_words[:5]:\n",
    "        top_words.append(word[0])\n",
    "    \n",
    "    #storing the top words for the cluster\n",
    "    cluster_words[i] = top_words\n",
    "\n"
   ]
  },
  {
   "cell_type": "code",
   "execution_count": 39,
   "id": "920c0cd1",
   "metadata": {},
   "outputs": [
    {
     "name": "stdout",
     "output_type": "stream",
     "text": [
      "Cluster 0: [itali, , bnl, negoti, purchas, german, bank, itali, , state, , own, , lt, , banca, nazional, del, lavoro, , bnl, , said, negoti, buy, west, german, bank, part, foreign, expans, polici, , bnl, presid, nerio, nesi, told, news, confer, italian, bank, current, involv, talk, declin, name, german, institut, , said, takeov, move, seen, bnl, , repli, deutsch, bank, ag, , lt, , dbkg, , f, , enter, italian, market, decemb, , , purchas, bankamerica, , lt, , bacn, , subsidiari, , lt, , banca, d, , america, e, d, , italia, , nesi, said, bnl, also, approv, , mln, dlr, credit, line, soviet, union, aim, enabl, soviet, compani, pay, italian, import, , gave, detail, , bnl, offici, said, group, also, decid, increas, activ, soviet, union, open, repres, offic, moscow, month, subsidiari, , lt, , sogecr, , specialis, italian, , soviet, trade], [lsb, , lt, , lsb, , pact, acquir, northwest, feder, lsb, industri, inc, said, enter, agreement, acquir, northwest, feder, save, loan, associ, woodward, , oklahoma, , upon, complet, acquisit, , lsb, pay, , , , mln, dlrs, sharehold, northwest, transfer, northwest, feder, certain, asset, net, current, apprais, valu, less, , mln, dlrs, , complet, transact, , northwest, feder, subsidiari, lsb, , non, , consolid, wholli, , own, financi, subsidiari, , acquisit, subject, obtain, approv, , waiver, forbear, feder, home, loan, bank, board, govern, approv], [unicorp, vote, stake, hike, union, enterpris, , lt, , union, enterpris, ltd, , said, holder, , , , mln, , pct, class, seri, one, prefer, share, request, retract, share, term, issu, , thus, rais, , lt, , unicorp, canada, corp, , vote, stake, union, , pct, , , union, said, paid, , mln, dlrs, april, , retract, , use, exist, credit, line]\n",
      "Cluster 1: [, lt, , crime, control, , asset, sold, hawley, crime, control, inc, said, reach, definit, agreement, subsidiari, hawley, group, ltd, buy, asset, assum, certain, liabil, crime, control, , , , mln, dlrs, , amount, , said, , mln, dlrs, avail, distribut, compani, , bank, , debentur, holder, sharehold, , balanc, use, pay, various, state, tax, expens, relat, transact, , establish, reserv, provid, certain, unassum, oblig, compani, , crime, control, said, use, proceed, pay, bank, lender, approxim, , , , mln, dlrs, , repres, , pct, princip, amount, indebted, bank, lender, , also, said, propos, acquir, , mln, dlrs, worth, outstand, , pct, convert, subordin, debentur, aggreg, approxim, , , , mln, dlrs, propos, liquid, compani, sharehold, receiv, estim, , cts, share, , report, earlier, , crime, control, default, approxim, , mln, dlrs, bank, debt, default, indentur, govern, convert, subordin, debentur, , januari, , , , , crime, control, , instal, , servic, monitor, electron, surveil, system, , said, retain, rothschild, inc, arrang, sale, compani], [ajinomoto, buy, joint, food, ventur, partner, ajinomoto, co, inc, , lt, , ajin, , , said, sign, around, end, , april, buy, , pct, , lt, , knorr, food, co, ltd, , capitalis, four, billion, yen, , alreadi, u, , , partner, , lt, , cpc, intern, inc, , ajinomoto, also, acquir, , pct, cpc, , two, sale, subsidiari, six, product, unit, hong, kong, , philippin, , singapor, , malaysia, , taiwan, thailand, , said, , total, cost, acquisit, , mln, dlrs, , spokesman, said], [alli, supermarket, , lt, , asu, , file, propos, merger, alli, supermarket, inc, said, file, registr, statement, secur, exchang, commiss, propos, merger, , lt, , von, compani, , supermarket, , combin, store, oper, , alli, said, statement, cover, , mln, dlrs, senior, subordin, discount, debentur, , mln, dlrs, subordin, debentur, , princip, amount, , propos, aggreg, offer, price, , mln, dlrs, issu, , drexel, burnham, lambert, inc, donaldson, , lufkin, jenrett, secur, inc, co, , underwrit, issu, , alli, expect, offer, earli, june, , alli, said], [ball, , lt, , bll, , end, talk, monsanto, , lt, , mtc, , ball, corp, said, unabl, complet, negoti, acquir, plastic, contain, busi, monsanto, co, , said, two, compani, enter, exclus, negoti, last, octob, , neither, compani, provid, detail, talk, termin], [bass, group, say, talk, seek, control, taft, broadcast, bass, group, say, talk, seek, control, taft, broadcast]\n",
      "Cluster 2: [e, , f, , hutton, , lt, , efh, , extend, purol, , lt, , pcc, , offer, e, , f, , hutton, group, , e, , f, , hutton, lbo, inc, unit, said, extend, expir, date, , dlr, per, share, tender, offer, purol, courier, corp, midnight, est, april, six, midnight, april, one, , e, , f, , hutton, lbo, inc, said, wholli, own, pc, acquisit, inc, subsidiari, , entiti, make, offer, , extend, expir, date, withdraw, right, period, pend, tender, , , , mln, share, , pct, purol, common, , hutton, , offer, top, today, , dlr, per, share, bid, , pct, stock, emeri, air, frieght, corp, , lt, , eaf, , offer, pay, sharehold, packag, secur, balanc, share, , valu, respect, tender, offer, price, , hutton, said, end, day, yesterday, , , , , share, purol, common, stock, repes, , , , pct, outstand, share, valid, tender, withdrawn, , manhattan, suprem, court, justic, lewi, grossman, today, adjourn, monday, hear, stockhold, suit, seek, block, hutton, lbo, transact, , judg, told, attorney, need, time, hear, case, , plaintiff, cite, belief, superior, offer, forthcom, , howev, one, compani, mention, affadavit, , interlink, express, plc, , deni, interest, , yesterday, , frank, hoenemey, , retir, vice, chairman, prudenti, insur, co, current, purol, board, member, , said, initi, offer, hutton, reject, board, director, februari, third, , hoenemey, testifi, next, meet, board, , februari, , , hutton, submit, revis, propos, accept, , also, testifi, committe, director, hire, goldman, sach, co, consid, altern, hutton, offer, also, consid, discuss, possibl, merger, compani, includ, emeri, feder, express, corp, , lt, , fdx], [macandrew, , forb, unit, begin, offer, buy, revlon, group, alreadi, own, macandrew, , forb, unit, begin, offer, buy, revlon, group, alreadi, own], [may, , lt, , ma, , sell, sycamor, divis, may, depart, store, co, said, sign, agreement, sell, sycamor, specialti, store, divis, invest, group, includ, syacmor, senior, manag, , may, said, expect, close, deal, , includ, entir, divis, , , , employe, , april, , sycamor, , women, , apparel, store, indiana, , ohio, , illinoi, , kentucki, michigan, , may, said, , may, ad, indiana, nation, bank, indianapoli, provid, portion, deal, , financ], [taft, , lt, , tfb, , complet, tv, station, sale, taft, broadcast, co, said, sale, independ, televis, station, tvx, broadcast, group, , set, yesterday, , occur, , tvx, invest, banker, , salomon, inc, , , lt, , sb, , salomon, brother, , advis, taft, close, consum, schedul, , compani, said, , tvx, salomon, also, advis, taft, hope, abl, close, near, futur, , compani, said, , ad, prepar, close, time, , taft, spokeswoman, refer, question, tvx, salomon, , taft, agre, novemb, sell, station, philadelphia, , washington, , miami, , fort, worth, , dalla, houston, tvx, broadcast, , mln, dlrs, , time, , taft, said, transact, result, tax, charg, , , mln, dlrs]\n",
      "Cluster 3: [hoogoven, conclud, takeov, philip, cirex, unit, dutch, steel, concern, , lt, , hoogoven, groep, bv, , said, reach, agreement, nv, philip, gloeielampenfabrieken, , lt, , pglo, , , takeov, cirex, , specialis, philip, precis, wax, mould, unit, , neither, parti, reveal, financi, detail, deal, , initi, announc, octob, , hoogoven, said, cirex, turnov, grown, recent, year, , mln, guilder, , expect, expans, , unit, deliv, main, car, industri, , hoogoven, said, acquisit, strengthen, posit, supplier, industri, high, , valu, metal, product], [sweden, , boliden, announc, major, corpor, takeov, today, , offici, , sweden, , boliden, announc, major, corpor, takeov, today, , offici]\n",
      "Cluster 4: [boliden, take, alli, , chalmer, divis, swedish, mine, metal, group, boliden, ab, said, buy, mine, equip, oper, u, , , alli, , chalmer, corp, , amount, , pct, group, sale, , , mln, crown, , boliden, presid, kjell, nilsson, told, news, confer, acquisit, alli, , chalmer, unit, , describ, world, , lead, produc, equip, miner, process, industri, , yield, posit, synergi, effect, boliden, mine, , metal, engin, oper, , nilsson, said, takeov, provid, opportun, cooper, mine, materi, handl, oper, boliden, , parent, compani, , trelleborg, ab, , said, alli, , chalmer, sell, need, new, cash, suffer, big, loss, farm, equip, oper, , deal, subject, approv, alli, , chalmer, , annual, meet, , compani, offici, said], [chemic, fabric, , lt, , cmfb, , agreement, termin, chemic, fabric, corp, said, agreement, principl, oc, birdair, inc, purchas, asset, relat, architectur, structur, busi, dow, corn, corp, , odc, inc, divis, termin, , agreement, , chemic, fabric, also, becom, distributor, dow, corn, , vestar, silicon, , coat, fiberglass, architecur, fabric, , oc, birdair, joint, ventur, chemic, fabric, owen, corn, fibergla, corp, , lt, , ocf, , corn, ventur, dow, chemic, co, , lt, , dow, , corn, glass, work, , lt, , glw, , chemic, fabric, said, current, project, backlog, dow, corn, , odc, divis, complet, , dow, corn, plan, discontinu, design, , engin, , fabric, instal, servic, , chemic, fabric, said, compani, cooper, develop, new, product, architectur, industri, applic, may, suppli, architectur, materi], [clearwat, fine, food, acquir, channel, food, clearwat, fine, food, inc, , canadian, compani, minor, own, hillsdown, hold, plc, london, , acquir, channel, food, ltd, , cornwal, , england, produc, chill, smoke, fish, pate, product, , hillsdown, said, , privat, held, clearwat, sold, three, mln, stg, , compani, said], [gencorp, , lt, , gy, , reject, unsolicit, takeov, bid, gencorp, inc, said, board, urg, sharehold, reject, hostil, unsolicit, , dlr, share, tender, offer, made, march, , general, acquisit, inc, , affili, wagner, brown, afg, industri, inc, , gencorp, also, said, develop, financi, superior, altern, enabl, sharehold, benefit, full, valu, compani, , letter, sharehold, , chairman, , william, reynold, said, offer, , high, condit], [honeywel, , lt, , hon, , debt, rise, sperri, buyout, honeywel, inc, said, total, debt, rose, , pct, , , main, due, , , , billion, dlr, acquisit, sperri, aerospac, group, , yearend, , accord, compani, , , annual, report, , honeywel, , total, debt, stood, , , , billion, dlrs, , compar, , , , mln, dlrs, , , honeywel, said, acquir, sperri, unit, begin, , , loss, full, year, , , , dlrs, share, , honeywel, , actual, loss, , , , , dlrs, share]\n"
     ]
    }
   ],
   "source": [
    "#printing the top words for each cluster\n",
    "for cluster,words in cluster_words.items():\n",
    "    print(\"Cluster \" + str(cluster) + \": \" + \", \".join(words))\n",
    "\n",
    "\n",
    "\n",
    "#In this task, we have implemented text clustering using PySpark. We have performed pre-processing steps such as tokenization, stopword removal, lemmatization, stemming, and vectorization. We have split the data into train and test sets and tuned the hyper-parameters of the k-means algorithm. We have evaluated the performance of the algorithm on the test data using the silhouette metric and reported the top frequent words for each cluster."
   ]
  },
  {
   "cell_type": "code",
   "execution_count": 40,
   "id": "3ca09fef",
   "metadata": {
    "scrolled": true
   },
   "outputs": [
    {
     "name": "stdout",
     "output_type": "stream",
     "text": [
      "+--------------------+--------------------+\n",
      "|                 _c1|       words_stemmed|\n",
      "+--------------------+--------------------+\n",
      "|sweden  s boliden...|[[sweden, , bolid...|\n",
      "|willcox and gibbs...|[[willcox, gibb, ...|\n",
      "|canadian tire maj...|[[canadian, tire,...|\n",
      "|businessman has  ...|[[businessman, , ...|\n",
      "|associated newspa...|[[associ, newspap...|\n",
      "|hanson trust to s...|[[hanson, trust, ...|\n",
      "|inspeech  lt  ins...|[[inspeech, , lt,...|\n",
      "| lt  crime contro...|[[, lt, , crime, ...|\n",
      "|gould  lt  gld  s...|[[gould, , lt, , ...|\n",
      "|calmar  lt  clmi ...|[[calmar, , lt, ,...|\n",
      "|telecast  lt  tcs...|[[telecast, , lt,...|\n",
      "|wilson brothers c...|[[wilson, brother...|\n",
      "|fidelity  lt  fnf...|[[fidel, , lt, , ...|\n",
      "|french firm has f...|[[french, firm, f...|\n",
      "|ohio mattress  lt...|[[ohio, mattress,...|\n",
      "|cpc international...|[[cpc, intern, se...|\n",
      "|first national ba...|[[first, nation, ...|\n",
      "|chase  lt  cmb  b...|[[chase, , lt, , ...|\n",
      "|hudson  s bay to ...|[[hudson, , bay, ...|\n",
      "|bass group says i...|[[bass, group, sa...|\n",
      "+--------------------+--------------------+\n",
      "only showing top 20 rows\n",
      "\n",
      "Top 5 frequent words in each cluster:\n",
      "[csr, sell, delhi, exxon, unit, , drop, delhi, float, csr, ltd, , lt, , csra, , , exxon, corp, , lt, , xon, , unit, , lt, , esso, explor, product, australia, inc, , said, csr, agre, sell, , lt, , delhi, australia, fund, , , daf, , esso, , mln, australian, dlrs, , sale, effect, tomorrow, , said, joint, statement, , previous, announc, float, part, delhi, interest, proceed, , csr, said, statement, , delhi, australia, fund, own, , lt, , delhi, petroleum, pti, ltd, , hold, averag, , pct, santo, ltd, , lt, , stos, , , led, cooper, eromanga, basin, gas, liquid, project, , addit, purchas, price, , csr, share, equal, return, due, increas, crude, oil, condens, price, certain, level, liquid, produc, delhi, , interest, next, two, year, , statement, said, , , esso, propos, purchas, delhi, interest, benefici, sharehold, proceed, float] 2\n",
      "[sweden, , boliden, ab, take, mine, gear, unit, alli, , chalmer, corp, , mln, crown, sweden, , boliden, ab, take, mine, gear, unit, alli, , chalmer, corp, , mln, crown] 1\n",
      "[willcox, gibb, , lt, , wg, , make, acquisit, willcox, gibb, inc, said, agre, acquir, atlantia, electr, part, distributor, b, w, electr, suppli, co, undisclos, amount, cash, , b, w, sale, eight, mln, dlrs, recent, year, , willcox, said, plan, expans, atlanta, area] 1\n",
      "[canadian, tire, major, holder, extend, pact, ctc, dealer, hold, ltd, said, , lt, , canadian, tire, corp, ltd, , control, sharehold, alfr, , david, martha, bill, extend, agreement, expir, yesterday, tender, share, ctc, , previous, report, offer, , pct, canadian, tire, common, share, , ctc, , alreadi, hold, , , , pct, canadian, tire, common, , said, therefor, take, share, tender, offer, unless, total, least, , , , mln, anoth, , , , pct, canadian, tire, common, , bill, control, , pct, canadian, tire, common, , ad, extend, offer, may, , fix, price, , , , dlrs, share, , ctc, , group, canadian, tire, dealer, , said, expect, know, may, , obtain, approv, appeal, previous, report, ontario, court, rule, uphold, regulatori, decis, block, ctc, , offer, , dealer, , bid, previous, block, ontario, secur, commiss, offer, exclud, holder, canadian, tire, class, non, , vote, share, , make, , pct, compani, equiti] 1\n",
      "[businessman, , , , pct, arden, group, , lt, , ardna, , saul, brandman, , california, busi, execut, , told, secur, exchang, commiss, acquir, , , , share, arden, group, inc, , , , , pct, total, outstand, common, stock, , brandman, , chairman, domino, california, inc, , los, angel, garment, maker, , said, bought, stake, , , , mln, dlrs, invest, purpos, , said, may, buy, arden, group, share, , may, sell, current, stake, , also, said, plan, seek, control, compani] 1\n"
     ]
    }
   ],
   "source": [
    "# Finding the top frequent words for each cluster\n",
    "df_new.show()\n",
    "# Initializing the list of words\n",
    "wordsList = []\n",
    "# Looping over the words\n",
    "for row in df_new.rdd.collect():\n",
    "    wordsList.extend(row[1])\n",
    "# Finding the top frequent words\n",
    "from collections import Counter\n",
    "word_counts = Counter(wordsList)\n",
    "top_words = word_counts.most_common(5)\n",
    "print(\"Top 5 frequent words in each cluster:\")\n",
    "for word in top_words:\n",
    "    print(word[0], word[1])\n"
   ]
  },
  {
   "cell_type": "code",
   "execution_count": null,
   "id": "e312de66",
   "metadata": {},
   "outputs": [],
   "source": []
  },
  {
   "cell_type": "code",
   "execution_count": null,
   "id": "3ea7d101",
   "metadata": {},
   "outputs": [],
   "source": [
    " "
   ]
  }
 ],
 "metadata": {
  "kernelspec": {
   "display_name": "Python 3 (ipykernel)",
   "language": "python",
   "name": "python3"
  },
  "language_info": {
   "codemirror_mode": {
    "name": "ipython",
    "version": 3
   },
   "file_extension": ".py",
   "mimetype": "text/x-python",
   "name": "python",
   "nbconvert_exporter": "python",
   "pygments_lexer": "ipython3",
   "version": "3.9.15"
  }
 },
 "nbformat": 4,
 "nbformat_minor": 5
}
